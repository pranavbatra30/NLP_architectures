{
  "nbformat": 4,
  "nbformat_minor": 0,
  "metadata": {
    "colab": {
      "provenance": [],
      "gpuType": "T4"
    },
    "kernelspec": {
      "name": "python3",
      "display_name": "Python 3"
    },
    "language_info": {
      "name": "python"
    },
    "accelerator": "GPU",
    "gpuClass": "standard"
  },
  "cells": [
    {
      "cell_type": "code",
      "execution_count": 10,
      "metadata": {
        "colab": {
          "base_uri": "https://localhost:8080/"
        },
        "id": "XlEr9ciGzq3e",
        "outputId": "7bf0d5e2-5c3f-41ec-ce9e-767ee8295cb0"
      },
      "outputs": [
        {
          "output_type": "stream",
          "name": "stdout",
          "text": [
            "Looking in indexes: https://pypi.org/simple, https://us-python.pkg.dev/colab-wheels/public/simple/\n",
            "Requirement already satisfied: torch in /usr/local/lib/python3.10/dist-packages (2.0.0+cu118)\n",
            "Requirement already satisfied: networkx in /usr/local/lib/python3.10/dist-packages (from torch) (3.1)\n",
            "Requirement already satisfied: jinja2 in /usr/local/lib/python3.10/dist-packages (from torch) (3.1.2)\n",
            "Requirement already satisfied: filelock in /usr/local/lib/python3.10/dist-packages (from torch) (3.12.0)\n",
            "Requirement already satisfied: typing-extensions in /usr/local/lib/python3.10/dist-packages (from torch) (4.5.0)\n",
            "Requirement already satisfied: sympy in /usr/local/lib/python3.10/dist-packages (from torch) (1.11.1)\n",
            "Requirement already satisfied: triton==2.0.0 in /usr/local/lib/python3.10/dist-packages (from torch) (2.0.0)\n",
            "Requirement already satisfied: lit in /usr/local/lib/python3.10/dist-packages (from triton==2.0.0->torch) (16.0.2)\n",
            "Requirement already satisfied: cmake in /usr/local/lib/python3.10/dist-packages (from triton==2.0.0->torch) (3.25.2)\n",
            "Requirement already satisfied: MarkupSafe>=2.0 in /usr/local/lib/python3.10/dist-packages (from jinja2->torch) (2.1.2)\n",
            "Requirement already satisfied: mpmath>=0.19 in /usr/local/lib/python3.10/dist-packages (from sympy->torch) (1.3.0)\n"
          ]
        }
      ],
      "source": [
        "!pip install torch"
      ]
    },
    {
      "cell_type": "code",
      "source": [
        "import torch\n",
        "import torch.nn as nn\n",
        "import torch.optim as optim\n",
        "import random\n",
        "import numpy as np"
      ],
      "metadata": {
        "id": "u8AIeZPY1uqS"
      },
      "execution_count": 11,
      "outputs": []
    },
    {
      "cell_type": "code",
      "source": [
        "# Hyperparameters\n",
        "input_size = 10\n",
        "hidden_size = 128\n",
        "output_size = 10\n",
        "num_layers = 1\n",
        "num_epochs = 100\n",
        "batch_size = 64\n",
        "learning_rate = 0.001"
      ],
      "metadata": {
        "id": "pzv26fMo1utD"
      },
      "execution_count": 12,
      "outputs": []
    },
    {
      "cell_type": "code",
      "source": [
        "# Generate synthetic data\n",
        "def generate_data(num_samples, seq_len, input_size):\n",
        "    data = []\n",
        "    for _ in range(num_samples):\n",
        "        seq = np.random.randint(0, input_size, size=(seq_len,))\n",
        "        data.append(seq)\n",
        "    return np.array(data)"
      ],
      "metadata": {
        "id": "Lb3C1CYN1uvq"
      },
      "execution_count": 13,
      "outputs": []
    },
    {
      "cell_type": "code",
      "source": [
        "# Prepare data for training\n",
        "num_samples = 1000\n",
        "seq_len = 10\n",
        "integer_data = generate_data(num_samples, seq_len, input_size)"
      ],
      "metadata": {
        "id": "Zux0EnSV1uzk"
      },
      "execution_count": 14,
      "outputs": []
    },
    {
      "cell_type": "code",
      "source": [
        "# One-hot encode the data\n",
        "train_data = np.zeros((num_samples, seq_len, input_size))\n",
        "train_data[np.arange(num_samples)[:, None], np.arange(seq_len), integer_data] = 1\n",
        "train_data = torch.from_numpy(train_data).float()"
      ],
      "metadata": {
        "id": "U5lnL1_t1yWt"
      },
      "execution_count": 15,
      "outputs": []
    },
    {
      "cell_type": "code",
      "source": [
        "# Simple RNN model\n",
        "class RNN(nn.Module):\n",
        "    def __init__(self, input_size, hidden_size, num_layers, output_size):\n",
        "        super(RNN, self).__init__()\n",
        "        self.hidden_size = hidden_size\n",
        "        self.num_layers = num_layers\n",
        "        self.rnn = nn.RNN(input_size, hidden_size, num_layers, batch_first=True)\n",
        "        self.fc = nn.Linear(hidden_size, output_size)\n",
        "    \n",
        "    def forward(self, x):\n",
        "        h0 = torch.zeros(self.num_layers, x.size(0), self.hidden_size).to(x.device)\n",
        "        out, _ = self.rnn(x, h0)\n",
        "        out = self.fc(out[:, -1, :])\n",
        "        return out"
      ],
      "metadata": {
        "id": "0JNeGUSW1yZQ"
      },
      "execution_count": 16,
      "outputs": []
    },
    {
      "cell_type": "code",
      "source": [
        "# Create the RNN model\n",
        "model = RNN(input_size, hidden_size, num_layers, output_size)\n",
        "\n",
        "# Loss and optimizer\n",
        "criterion = nn.CrossEntropyLoss()\n",
        "optimizer = optim.Adam(model.parameters(), lr=learning_rate)"
      ],
      "metadata": {
        "id": "xLK9N_kb1yb3"
      },
      "execution_count": 17,
      "outputs": []
    },
    {
      "cell_type": "code",
      "source": [
        "# Train the model\n",
        "for epoch in range(num_epochs):\n",
        "    for i in range(0, num_samples, batch_size):\n",
        "        inputs = train_data[i:i+batch_size]\n",
        "        integer_inputs = integer_data[i:i+batch_size]\n",
        "        labels = torch.tensor([np.random.choice(np.arange(input_size), p=np.bincount(seq, minlength=input_size)/seq_len) for seq in integer_inputs], dtype=torch.long)\n",
        "\n",
        "        # Forward pass\n",
        "        outputs = model(inputs)\n",
        "        loss = criterion(outputs, labels)\n",
        "        \n",
        "        # Backward and optimize\n",
        "        optimizer.zero_grad()\n",
        "        loss.backward()\n",
        "        optimizer.step()\n",
        "        \n",
        "    print(f'Epoch [{epoch+1}/{num_epochs}], Loss: {loss.item():.4f}')"
      ],
      "metadata": {
        "colab": {
          "base_uri": "https://localhost:8080/"
        },
        "id": "G_Fp-Ab71yed",
        "outputId": "e1a98671-cd3a-4f6e-d16a-f697e4f9672f"
      },
      "execution_count": 18,
      "outputs": [
        {
          "output_type": "stream",
          "name": "stdout",
          "text": [
            "Epoch [1/100], Loss: 2.3128\n",
            "Epoch [2/100], Loss: 2.3055\n",
            "Epoch [3/100], Loss: 2.1527\n",
            "Epoch [4/100], Loss: 2.2354\n",
            "Epoch [5/100], Loss: 2.1398\n",
            "Epoch [6/100], Loss: 2.2847\n",
            "Epoch [7/100], Loss: 2.1411\n",
            "Epoch [8/100], Loss: 2.0693\n",
            "Epoch [9/100], Loss: 2.0900\n",
            "Epoch [10/100], Loss: 2.1129\n",
            "Epoch [11/100], Loss: 2.0255\n",
            "Epoch [12/100], Loss: 2.1544\n",
            "Epoch [13/100], Loss: 2.0656\n",
            "Epoch [14/100], Loss: 2.0725\n",
            "Epoch [15/100], Loss: 1.9281\n",
            "Epoch [16/100], Loss: 2.1506\n",
            "Epoch [17/100], Loss: 2.0292\n",
            "Epoch [18/100], Loss: 1.9605\n",
            "Epoch [19/100], Loss: 1.9530\n",
            "Epoch [20/100], Loss: 1.9948\n",
            "Epoch [21/100], Loss: 2.0365\n",
            "Epoch [22/100], Loss: 1.9973\n",
            "Epoch [23/100], Loss: 2.0471\n",
            "Epoch [24/100], Loss: 1.9339\n",
            "Epoch [25/100], Loss: 1.9427\n",
            "Epoch [26/100], Loss: 1.9212\n",
            "Epoch [27/100], Loss: 2.1462\n",
            "Epoch [28/100], Loss: 1.7216\n",
            "Epoch [29/100], Loss: 1.9972\n",
            "Epoch [30/100], Loss: 1.8409\n",
            "Epoch [31/100], Loss: 1.7988\n",
            "Epoch [32/100], Loss: 1.9101\n",
            "Epoch [33/100], Loss: 1.9452\n",
            "Epoch [34/100], Loss: 2.0241\n",
            "Epoch [35/100], Loss: 2.0943\n",
            "Epoch [36/100], Loss: 1.9604\n",
            "Epoch [37/100], Loss: 2.0615\n",
            "Epoch [38/100], Loss: 1.8298\n",
            "Epoch [39/100], Loss: 1.7921\n",
            "Epoch [40/100], Loss: 1.8091\n",
            "Epoch [41/100], Loss: 2.0613\n",
            "Epoch [42/100], Loss: 2.1062\n",
            "Epoch [43/100], Loss: 1.9475\n",
            "Epoch [44/100], Loss: 1.8236\n",
            "Epoch [45/100], Loss: 1.9929\n",
            "Epoch [46/100], Loss: 1.8639\n",
            "Epoch [47/100], Loss: 1.9547\n",
            "Epoch [48/100], Loss: 2.0556\n",
            "Epoch [49/100], Loss: 1.7039\n",
            "Epoch [50/100], Loss: 2.0644\n",
            "Epoch [51/100], Loss: 1.8087\n",
            "Epoch [52/100], Loss: 1.8450\n",
            "Epoch [53/100], Loss: 1.9124\n",
            "Epoch [54/100], Loss: 2.0202\n",
            "Epoch [55/100], Loss: 1.7820\n",
            "Epoch [56/100], Loss: 1.8576\n",
            "Epoch [57/100], Loss: 1.8683\n",
            "Epoch [58/100], Loss: 1.7200\n",
            "Epoch [59/100], Loss: 1.7413\n",
            "Epoch [60/100], Loss: 1.7124\n",
            "Epoch [61/100], Loss: 1.8196\n",
            "Epoch [62/100], Loss: 1.9439\n",
            "Epoch [63/100], Loss: 1.8491\n",
            "Epoch [64/100], Loss: 1.9758\n",
            "Epoch [65/100], Loss: 1.8818\n",
            "Epoch [66/100], Loss: 1.8326\n",
            "Epoch [67/100], Loss: 1.9284\n",
            "Epoch [68/100], Loss: 2.0238\n",
            "Epoch [69/100], Loss: 2.0511\n",
            "Epoch [70/100], Loss: 1.7003\n",
            "Epoch [71/100], Loss: 1.8578\n",
            "Epoch [72/100], Loss: 1.8644\n",
            "Epoch [73/100], Loss: 1.9622\n",
            "Epoch [74/100], Loss: 1.8009\n",
            "Epoch [75/100], Loss: 1.9096\n",
            "Epoch [76/100], Loss: 1.7549\n",
            "Epoch [77/100], Loss: 1.9870\n",
            "Epoch [78/100], Loss: 2.0456\n",
            "Epoch [79/100], Loss: 2.1784\n",
            "Epoch [80/100], Loss: 1.9919\n",
            "Epoch [81/100], Loss: 1.7935\n",
            "Epoch [82/100], Loss: 1.8429\n",
            "Epoch [83/100], Loss: 1.7984\n",
            "Epoch [84/100], Loss: 1.7802\n",
            "Epoch [85/100], Loss: 1.6853\n",
            "Epoch [86/100], Loss: 1.7989\n",
            "Epoch [87/100], Loss: 1.9181\n",
            "Epoch [88/100], Loss: 1.9540\n",
            "Epoch [89/100], Loss: 1.9993\n",
            "Epoch [90/100], Loss: 1.7753\n",
            "Epoch [91/100], Loss: 1.8635\n",
            "Epoch [92/100], Loss: 2.0424\n",
            "Epoch [93/100], Loss: 1.9149\n",
            "Epoch [94/100], Loss: 1.9260\n",
            "Epoch [95/100], Loss: 1.7001\n",
            "Epoch [96/100], Loss: 1.9115\n",
            "Epoch [97/100], Loss: 1.8892\n",
            "Epoch [98/100], Loss: 1.9373\n",
            "Epoch [99/100], Loss: 1.8124\n",
            "Epoch [100/100], Loss: 1.9661\n"
          ]
        }
      ]
    }
  ]
}